{
 "cells": [
  {
   "cell_type": "markdown",
   "metadata": {},
   "source": [
    "### Probability Playground\n",
    "### Statistical Consequences of Fat Tails, Taleb 2020\n",
    "Goal: Play around and get a feeling for fat tails, distributions, and consequences"
   ]
  },
  {
   "cell_type": "code",
   "execution_count": 64,
   "metadata": {},
   "outputs": [],
   "source": [
    "import numpy as np\n",
    "import pandas as pd\n",
    "\n",
    "from scipy.stats import levy_stable, norm, moment\n",
    "import matplotlib.pyplot as plt\n",
    "\n",
    "%matplotlib inline\n",
    "# Pretty Display of Variables\n",
    "#from IPython.core.interactiveshell import InteractiveShell\n",
    "#InteractiveShell.ast_node_interactivity = \"all\"\n",
    "# Double resolution plotting for retina display\n",
    "%config InlineBackend.figure_format ='retina'\n",
    "#pd.set_option('chained_assignment',None)"
   ]
  },
  {
   "cell_type": "markdown",
   "metadata": {},
   "source": [
    "### Some concepts\n",
    "##### Citation Ring\n",
    "Academic prominence reached thanks to people citing each other, because incentives to get many citations, without the quality of them. No external filters such as supervision, quality control, skin in the game\n",
    "\n",
    "##### Rent-seeking\n",
    "Conflict of interest between a given reseracher and the subject under consideration. Objective function of academic department becomes collecting citations, honors, at the expense of the purity of the subject. Wrong incentives. \n",
    "\n",
    "##### Pseudo-empiricism\n",
    "- Making inference from the means and correlations for fat tailed variables\n",
    "- Comparing thin-tailed and fat-tailed variables (e.g. risk of death from pandemic with falling from ladder)\n",
    "\n",
    "##### Preasymptotics\n",
    "- Real world happens between 0 and $\\infty$, not in the asymptotic, but in the preasymptotic\n",
    "- Some distributions are gaussian asymptotically ($n=infty$), but not for extremely large but not infinite $n$\n",
    "\n",
    "##### Skin in the game\n",
    "- A filtering mechanism that forces cooks to eat their own cooking and be exposed to harm in the event of failure, thus thorws dangerous people out of the system. \n",
    "- Skin in the game: Plumbing, dentistry, surgery, engineering\n",
    "- No Skin in the game: Circular academic fields where people rely on peer assesment rather than survival pressures from reality. \n",
    "\n",
    "##### Wittgenstein's Ruler\n",
    "Are you using the ruler to measure the table or using the table to measure the ruler?\n",
    "\n",
    "\n",
    "##### Black Swans\n",
    "- Black Swans result from the incompleteness of knowledge with effects that can be very consequential in fat tailed domains\n",
    "- They are things that fall outside what you can expect and model, and carry large consequences\n",
    "- The idea is not to predict them, but be convex (or at least not concave) to their impact. Fragility to a certain class of events is detectable, even measurable (second order effects and asymmetry of responses) while statistical attributes of these events remain elusive\n",
    "- Deal with things we have never seen or imagined before\n",
    "- Difference between the observer (black swan for him) and generator (no black swan for him), e.g. turkey and butcher\n",
    "\n",
    "\n",
    "##### Mediocsitran (thin tails) and Extremistan (thick tails)\n",
    "- In Mediocristan, no single observation can really modify the statistical properties. E.g. Size and weights of humans \n",
    "- In Extremistan, the tails (rare events) play a disporportionately large role in determining the properties. E.g. asset prices, wealth, book sales, everything in complex systems\n",
    "\n",
    "\n",
    "##### Absensce of evidence is not evidence of absence "
   ]
  },
  {
   "cell_type": "markdown",
   "metadata": {},
   "source": [
    "##### Thick tailed distributions\n",
    "- At some point, the center becomes just noise. No signal or information, only in the extreme and rare events, as they determine the statistical properties of the distribution\n",
    "- Very slow functioning of the law of large numbers\n",
    "\n",
    "##### Categorization of heavy-tailed distributions\n",
    "- Thick tailed $\\supset$ Subexponential $\\subset$ Power Law (Pareto)\n",
    "  - Thick tailed distributions: Tails thicker than gaussian, 4th moment (kurtosis) higher than 3\n",
    "  - Subexponential distributions: Rare events determine statistical properties\n",
    "  - Power Law (Pareto) distributions: There will be some moment that is infinite\n",
    "  \n",
    "##### Lognormal is complex\n",
    "- Low variance -> thin tailed\n",
    "- High variance -> thick tailed\n",
    "\n",
    "##### Central Limit Theorem\n",
    "- Stops working with alpha (tail index) stable distributions with $\\alpha <= 3$. \n",
    "- Convergance problems, infinite moments\n",
    "- Moments cease to exist top down: First, Kurtosis does not exist anymore (converge / or is infinity), then skewness, then variance, and at some point not even mean\n",
    "\n",
    "##### Summary of problem with standardized statistics for fat tailed variables\n",
    "- Statistical estimation based on two elements: Central limit theorem (large sums of distributions converge to gaussian), and law of large numbers (estimated average converges to the true, unobserved expected value of the distributions with increasing sample size)\n",
    "- A distribution can converge to gaussian within $+- \\sqrt{n\\log n}$, the center of the distribution, but the remote tails don't. And the tails determine the properties. \n",
    "- Life happens in the preasymptotics\n",
    "\n",
    "\n",
    "##### Consequences\n",
    "- The law of large numbers, when it works, works too slowly in the real world\n",
    "- The mean of the distribution will rarely correspond to the sample mean; it will have a persistent small sample effect (downward or upward) particularly when the distribution is skewed (or one-tailed)\n",
    "- Metrics such as standard deviation and variance are not usable\n",
    "- Beta, sharpe ratio and other common hackneyed financial metrics are uninformative\n",
    "- Robust statistics is not robust and the empirical distribution is not empirical\n",
    "- Linear least-square regression doesn't work (failure of Gauss-Markov theorem) for fat tailed variables. When variance is infinite, $R^2$ should be zero. Under thick tails $R^2$ is uninformative.\n",
    "- The gap between disconfirmatory and confirmatory empiricism is wider than in situations covered by common statistics i.e., the difference between absence of evidence and evidence of absence becomes larger (What is called evidence based science, unless rigorously disconfirmatory, is usually interpolative, evidence-free, and unscientific\n",
    "- PCA and factor analysis are likely to produce spurious factors and loads\n",
    "- The method of moments (MoM) fails to work. Higher moments are uninformative or do not exist\n",
    "- There is no such thing as a typical large deviation\n",
    "- The Gini coefficient ceases to be additive\n",
    "- Large deviation theory fails to apply to thick tails. \n",
    "- Risks of financial options are never mitigated by dynamic hedging\n",
    "- Forecasting in frequency space diverges from expected payoff\n",
    "- Much of the claims in the psychology and decision making literature concerning the overestimation of tail probability and irrational behaviour with respect of rare events comes from misunderstanding by researchers of tail risk, conflation of propability and expected payoffs, misuse of probability distributions, and ignorance of extreme value theory. \n",
    "- Ruin problems are more acute and ergodicity is required under thick tails\n",
    "\n",
    "##### Shadow mean\n",
    "- The real mean of the data generating process, not observable in sample\n",
    "\n",
    "##### Problem if variance exists\n",
    "- even if variance exists, we don't know what it can be with acceptable precision, it obeys are slow law of large numbers because the second moment of a random variable is necessarily more thick tailed than the variable itself. \n",
    "- Stochastic correlations or covariances also represent a form of thick tails (or loss of ellipticality). Invalidates practically every single economic variable and financial asset prices\n",
    "\n",
    "##### Tail exponent $\\alpha$\n",
    "The tail exponent $\\alpha$ captures, by extrapolation, the low-probability deviation not seen in the data, but taht plays a disproportionaetly large share in determining the mean\n",
    "\n",
    "##### What do we do when we do not have a reliable estimator?\n",
    "Better stay home. We must not expose ourselves to harm in the presence of fragility, but can still take risky decisions if we are bounded for maximum losses.\n",
    "\n",
    "##### Learning from mistakes\n",
    "- Under thick tails, mistakes are terminal. Under thin tails, they can be great learning experiences\n",
    "\n",
    "##### Correlations\n",
    "- For thick tailed distributions, absence of correlation does not imply independence\n",
    "\n",
    "##### Prability vs. Payoff\n",
    "- I can believe that the probability of the market going up is higher than going down, but still bet on it going down, as the payoff or impact might be higher. \n",
    "\n",
    "\n",
    "##### Payoffs swamps probability in Extremistan\n",
    "\n",
    "##### Probability distributions observation vs realization\n",
    "- We do not observe probability distributions, just realizations\n",
    "- A pdf cannot tell you if the realization belongs to it\n",
    "\n",
    "##### Thin tailed or thick tailed?\n",
    "- If we have a (gaussian) 20 sigma event, we can rule out that the pdf is thin tailed.\n",
    "- If we see no large deviation, we can not rule out that it is not thick tailed unless we understand the process very well. \n",
    "- If someone tells you there is a 10 sigma event is much more likely he has the wrong distribution function than it is that you really have ten-sigma event\n",
    "\n",
    "##### Confirmation vs. via negativa\n",
    "- We can often not confirm a hypothesis, but rule out, disconfirm.\n",
    "\n",
    "##### Russian School of Probability\n",
    "- Inequalities instead of equalities, bounds instead of estimates\n",
    "- Markov, Chebyshev\n",
    "\n",
    "##### Never compare thick tailed variables to thin tailed ones, since the means do not belong to the same class of distributions. \n",
    "- E.g. death from ebola vs. falls from laddes\n",
    "- Your neighbour having Covid 19 increases the chances that you get it , wheras your neighbor drowning in her or his swimming pool does not increase your probability of drowning (rather decrease)\n",
    "- Joint distributions are not longer elliptical, causing the sum to be fat-tailed even when individual variables are thin-tailed"
   ]
  },
  {
   "cell_type": "markdown",
   "metadata": {},
   "source": [
    "##### Power law\n",
    "- constant inequality, ration of people with 16mio to 8 mio is same as 2:1. \n",
    "- Scalable distribution: often no mean and variance\n",
    "\n",
    "##### No higher moments\n",
    "- Pareto distribution has no higher moments, either not defined, or more and more unstable\n",
    "- There are classes of distributions that do not allow us to work with variance or higher moments, even if it exists\n",
    "- Pareto distributions give us less information, but at least they are correct\n",
    "- Thin tailed statistics will work in a thick tailed sample, as samples are bounded and thus have finite moments, but not outside the sample\n",
    "\n",
    "##### PCA\n",
    "- Works under thin tailed, not well under thick tailed\n",
    "- Spurious correlation washed out quickly under thin tailed data, not under thick tailed. Law of large numbers, much more data necessary\n",
    "\n",
    "##### Wittgenstein's Ruler\n",
    "- gaussian ten-sigma event: Unlikely for the variable / data to be gaussian distributed then\n",
    "- Are you using the ruler to measure the table or using the table to measure the ruler\n",
    "- Heuristic is to reject gaussian distribution in the presence of any event >4 STDs. Calculated via Bayes Rule with conditional probabilities\n",
    "\n",
    "##### Taleb's suggests first estimating / extrapolating the distribution, then calculate the mean with the extrapolated values, not just the sample. So the mean is closer to the data generating / true mean, instead of the sample mean, which is unstable. \n",
    "- This mean estimation may be why banks make large profits outside a crisis, then loose even more in the crisis, and must be bailed out by the taxpayer\n",
    "- Shadow/true mean vs. realized mean\n",
    "- Once you know you have a Pareto distribution, ignoring the sample mean and extrapolating the true mean works better\n",
    "\n",
    "##### You can be right but still go bust\n",
    "- If your payoff function is concave instead of convex\n",
    "- Bad forecasters can be great traders and decision makers, if they have their payoff functions right, which means they know that they don't know\n",
    "\n",
    "##### Ruin and Path dependence\n",
    "- Ole Peterson with ergodicity economics, Kelly and Thorp with information theory\n",
    "- Cramer condition: excludes possible ruin from single shocks\n",
    "- Averages are pointless if you go bust at some point, maximum drawdown it is then\n",
    "- Time probability and ensemble probability are not the same\n",
    "- Repetition of exposures: how much is our life expectancy reduced by repeated exposure\n",
    "\n",
    "##### Monte Carlo Simulation\n",
    "- Parallel Universe theory\n",
    "- Quantum Computing theory, I understand basically nothing. \n",
    "- Randomness\n",
    "- Path dependence\n",
    "\n",
    "##### In the real world we want simple things that work: We want to impress our accountant and not our peers\n",
    "- Systems judged by peers and not evolution rot from overcomplication\n",
    "\n",
    "##### How to measure convexity and concavity is much simpler than probability "
   ]
  },
  {
   "cell_type": "code",
   "execution_count": null,
   "metadata": {},
   "outputs": [],
   "source": []
  },
  {
   "cell_type": "markdown",
   "metadata": {},
   "source": [
    "##### Simulate some distributions with different tails\n",
    "- Pasquale Cirillo, different types of \"Heavy Tails\". Fat tails are heavy, but not all heavy tails are fat. The Lognormal distribution does not have fat tails (yet it can be very tricky and dangerous): https://twitter.com/DrCirillo/status/1051898167950790656/photo/1\n",
    "- Lévy stable distribution: stable distribution, beta is kind of skew, alpha is tail index $-1 \\leq \\beta \\leq 1, 0 \\leq \\alpha \\leq 2$"
   ]
  },
  {
   "cell_type": "code",
   "execution_count": 58,
   "metadata": {},
   "outputs": [
    {
     "data": {
      "image/png": "[encoded data removed]",
      "text/plain": [
       "<Figure size 432x288 with 1 Axes>"
      ]
     },
     "metadata": {
      "image/png": {
       "height": 279,
       "width": 411
      },
      "needs_background": "light"
     },
     "output_type": "display_data"
    }
   ],
   "source": [
    "fig, ax = plt.subplots(1, 1)\n",
    "\n",
    "# levy stable\n",
    "alpha, beta = 1, 0\n",
    "x = np.arange(-10, 10, 0.01)\n",
    "ax.plot(x, levy_stable.pdf(x, alpha, beta, loc=0, scale=2), color='blue', alpha=0.7, label='lévy stable(1,0)')\n",
    "        \n",
    "# gaussian(0,2)\n",
    "x = np.arange(-10, 10, 0.01)\n",
    "ax.plot(x, norm.pdf(x, 0, 2), color='red', alpha=0.7, label='gaussian(0,1)')\n",
    "\n",
    "\n",
    "ax.grid(axis='y', alpha=0.75)\n",
    "ax.set_xlim([-10, 10])\n",
    "ax.set_xlabel('Value', fontsize=12)\n",
    "ax.set_ylabel('PDF', fontsize=12)\n",
    "ax.legend(loc='best') #, frameon=False\n",
    "ax.set_title('Different thick tails')\n",
    "plt.show()"
   ]
  },
  {
   "cell_type": "markdown",
   "metadata": {},
   "source": [
    "##### Calculate distribution sample moments vs true moments\n",
    "- Tricky thing: To compare distributions, not really possible, as lévy stable moments are not defined, infinum"
   ]
  },
  {
   "cell_type": "code",
   "execution_count": 73,
   "metadata": {},
   "outputs": [
    {
     "name": "stdout",
     "output_type": "stream",
     "text": [
      "True data generating moments\n",
      "Lévy stable moments: mean=nan, var=inf, skew=nan, kurt=nan\n",
      "Gaussian moments, kurtosis with fisher condition, true is 3: mean=0.0, var=1.0, skew=0.0, kurt=0.0\n",
      "\n",
      "Sample generated moments n = 100\n",
      "Lévy stable moments 100: mean=0.0, var=26.94526758428858, skew=540.6856915909326, kurt=21528.649117459972\n",
      "Gaussian moments 100: mean=0.0, var=1.0270899287151576, skew=-0.25617842868732627, kurt=3.134286967836435\n",
      "\n",
      "Sample generated moments n = 1000\n",
      "Lévy stable moments 100: mean=0.0, var=491.03749705840147, skew=240984.44981367057, kurt=142302667.0342657\n",
      "Gaussian moments 100: mean=0.0, var=0.9777912000170166, skew=0.023546026480559677, kurt=2.8938332892554923\n",
      "\n",
      "Sample generated moments n = 10000\n",
      "Lévy stable moments 100: mean=0.0, var=37957.28764260064, skew=556291858.8607965, kurt=10232360515593.635\n",
      "Gaussian moments 100: mean=0.0, var=0.9832183692177349, skew=-0.025451131557574842, kurt=2.8628250761622223\n"
     ]
    }
   ],
   "source": [
    "# true moments\n",
    "print('True data generating moments')\n",
    "mean, var, skew, kurt = levy_stable.stats(alpha, beta, moments='mvsk')\n",
    "print(f'Lévy stable moments: mean={mean}, var={var}, skew={skew}, kurt={kurt}')\n",
    "mean, var, skew, kurt = norm.stats(loc=0, scale=1, moments='mvsk') # loc is mean scale is standard deviation\n",
    "print(f'Gaussian moments, kurtosis with fisher condition, true is 3: mean={mean}, var={var}, skew={skew}, kurt={kurt}')# true moments\n",
    "\n",
    "# sample moments\n",
    "print('')\n",
    "print('Sample generated moments n = 100')\n",
    "levy_100 = levy_stable.rvs(alpha, beta, size=100, random_state=None)\n",
    "norm_100 = norm.rvs(loc=0, scale=1, size=100, random_state=None)\n",
    "# levy sample moments\n",
    "mean, var, skew, kurt = moment(levy_100, 1), moment(levy_100, 2), moment(levy_100, 3), moment(levy_100, 4) \n",
    "print(f'Lévy stable moments 100: mean={mean}, var={var}, skew={skew}, kurt={kurt}')\n",
    "# gaussian sample moments \n",
    "mean, var, skew, kurt = moment(norm_100, 1), moment(norm_100, 2), moment(norm_100, 3), moment(norm_100, 4) \n",
    "print(f'Gaussian moments 100: mean={mean}, var={var}, skew={skew}, kurt={kurt}')# true moments\n",
    "\n",
    "print('')\n",
    "print('Sample generated moments n = 1000')\n",
    "levy_100 = levy_stable.rvs(alpha, beta, size=1000, random_state=None)\n",
    "norm_100 = norm.rvs(loc=0, scale=1, size=1000, random_state=None)\n",
    "# levy sample moments\n",
    "mean, var, skew, kurt = moment(levy_100, 1), moment(levy_100, 2), moment(levy_100, 3), moment(levy_100, 4) \n",
    "print(f'Lévy stable moments 100: mean={mean}, var={var}, skew={skew}, kurt={kurt}')\n",
    "# gaussian sample moments \n",
    "mean, var, skew, kurt = moment(norm_100, 1), moment(norm_100, 2), moment(norm_100, 3), moment(norm_100, 4) \n",
    "print(f'Gaussian moments 100: mean={mean}, var={var}, skew={skew}, kurt={kurt}')# true moments\n",
    "\n",
    "print('')\n",
    "print('Sample generated moments n = 10000')\n",
    "levy_100 = levy_stable.rvs(alpha, beta, size=10000, random_state=None)\n",
    "norm_100 = norm.rvs(loc=0, scale=1, size=10000, random_state=None)\n",
    "# levy sample moments\n",
    "mean, var, skew, kurt = moment(levy_100, 1), moment(levy_100, 2), moment(levy_100, 3), moment(levy_100, 4) \n",
    "print(f'Lévy stable moments 100: mean={mean}, var={var}, skew={skew}, kurt={kurt}')\n",
    "# gaussian sample moments \n",
    "mean, var, skew, kurt = moment(norm_100, 1), moment(norm_100, 2), moment(norm_100, 3), moment(norm_100, 4) \n",
    "print(f'Gaussian moments 100: mean={mean}, var={var}, skew={skew}, kurt={kurt}')# true moments"
   ]
  },
  {
   "cell_type": "markdown",
   "metadata": {},
   "source": [
    "##### Observations and Questions\n",
    "- Gaussian: True data generating moments are defined, sample moments converge relatively fast (how to show it quantitatively?)\n",
    "- Levy stable: True data generating moments are not defined or infinite in case of variance, sample moments are defined, however do they converge towards true moments? I think very slowly. Need extremely much data."
   ]
  },
  {
   "cell_type": "code",
   "execution_count": null,
   "metadata": {},
   "outputs": [],
   "source": []
  },
  {
   "cell_type": "code",
   "execution_count": null,
   "metadata": {},
   "outputs": [],
   "source": []
  },
  {
   "cell_type": "markdown",
   "metadata": {},
   "source": [
    "##### 2008 crash distribution analysis - before and after"
   ]
  },
  {
   "cell_type": "markdown",
   "metadata": {},
   "source": [
    "##### Corona crisis crash distribution analysis - before and after"
   ]
  },
  {
   "cell_type": "code",
   "execution_count": null,
   "metadata": {},
   "outputs": [],
   "source": []
  }
 ],
 "metadata": {
  "kernelspec": {
   "display_name": "Python probability",
   "language": "python",
   "name": "probability_playground"
  },
  "language_info": {
   "codemirror_mode": {
    "name": "ipython",
    "version": 3
   },
   "file_extension": ".py",
   "mimetype": "text/x-python",
   "name": "python",
   "nbconvert_exporter": "python",
   "pygments_lexer": "ipython3",
   "version": "3.8.5"
  }
 },
 "nbformat": 4,
 "nbformat_minor": 4
}
